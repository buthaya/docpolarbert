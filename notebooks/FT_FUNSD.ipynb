{
 "cells": [
  {
   "cell_type": "code",
   "id": "initial_id",
   "metadata": {
    "collapsed": true,
    "ExecuteTime": {
     "end_time": "2025-07-28T09:34:38.928644Z",
     "start_time": "2025-07-28T09:34:38.900201Z"
    }
   },
   "source": [
    "%load_ext autoreload\n",
    "%autoreload 2\n",
    "import torch\n",
    "import random\n",
    "import time\n",
    "import datetime\n",
    "import numpy as np\n",
    "\n",
    "from torch.optim import AdamW\n",
    "from torch.nn import CrossEntropyLoss\n",
    "from torch.utils.data import DataLoader, RandomSampler\n",
    "from data.token_classification import TokenClassificationDataset\n",
    "from transformers import LayoutLMv3Tokenizer\n",
    "\n",
    "from src.modeling.docpolarbert.modeling_docpolarbert import DocPolarBERTForTokenClassification\n",
    "from src.modeling.docpolarbert.train_utils import train_step_token_classification, eval_token_classification"
   ],
   "outputs": [
    {
     "name": "stdout",
     "output_type": "stream",
     "text": [
      "The autoreload extension is already loaded. To reload it, use:\n",
      "  %reload_ext autoreload\n"
     ]
    }
   ],
   "execution_count": 13
  },
  {
   "metadata": {
    "ExecuteTime": {
     "end_time": "2025-07-28T09:35:38.214733Z",
     "start_time": "2025-07-28T09:35:38.006834Z"
    }
   },
   "cell_type": "code",
   "source": [
    "# Load FUNSD dataset\n",
    "DATA_DIR = 'data/funsd/bio'\n",
    "pad_token_label_id = CrossEntropyLoss().ignore_index\n",
    "SEED = 3\n",
    "NUM_EPOCHS = 30\n",
    "LEARNING_RATE = 5e-5\n",
    "BATCH_SIZE = 16\n",
    "# Set all seeds\n",
    "random.seed(SEED)\n",
    "np.random.seed(SEED)\n",
    "torch.manual_seed(SEED)\n",
    "\n",
    "g = torch.Generator()\n",
    "g.manual_seed(SEED)\n",
    "\n",
    "tokenizer = LayoutLMv3Tokenizer.from_pretrained('microsoft/layoutlmv3-base')\n",
    "train_dataset = TokenClassificationDataset(\n",
    "    data_dir=DATA_DIR,\n",
    "    tokenizer=tokenizer,\n",
    "    pad_token_label_id=pad_token_label_id,\n",
    "    mode='train')\n",
    "\n",
    "val_dataset = TokenClassificationDataset(\n",
    "    data_dir=DATA_DIR,\n",
    "    tokenizer=tokenizer,\n",
    "    pad_token_label_id=pad_token_label_id,\n",
    "    mode='test')\n",
    "\n",
    "train_sampler = RandomSampler(train_dataset)\n",
    "\n",
    "train_sampler = torch.utils.data.RandomSampler(train_dataset, generator=g)\n",
    "\n",
    "train_dataloader = DataLoader(dataset=train_dataset,\n",
    "                              batch_size=BATCH_SIZE,\n",
    "                              sampler=train_sampler)\n",
    "\n",
    "val_sampler = torch.utils.data.RandomSampler(val_dataset, generator=g)\n",
    "\n",
    "val_dataloader = DataLoader(dataset=val_dataset,\n",
    "                            batch_size=BATCH_SIZE,\n",
    "                            sampler=val_sampler)\n",
    "\n"
   ],
   "id": "c5baa35f11542d11",
   "outputs": [],
   "execution_count": 17
  },
  {
   "metadata": {},
   "cell_type": "code",
   "source": [
    "DOCPOLARBERT_DIR = 'docpolarbert-base'\n",
    "\n",
    "model = DocPolarBERTForTokenClassification.from_pretrained(DOCPOLARBERT_DIR, num_labels=len(train_dataset.idx2label))\n",
    "model.to(\"cpu\" if torch.backends.mps.is_available() else \"cuda\" if torch.cuda.is_available() else \"cpu\")\n",
    "optimizer = AdamW(model.parameters(), lr=LEARNING_RATE)\n",
    "\n",
    "\n",
    "with torch.no_grad():\n",
    "    avg_eval_loss, precision, recall, f1 = eval_token_classification(\n",
    "    model=model,\n",
    "    eval_dataloader=val_dataloader,\n",
    "    idx2label=val_dataset.idx2label,\n",
    "    print_results=True)\n",
    "    print(f\"Epoch [{0}/{NUM_EPOCHS}], Average validation loss: {avg_eval_loss:.4f}, Precision: {precision:.4f}, Recall: {recall:.4f}, F1: {f1:.4f}.\")\n"
   ],
   "id": "10c7564f5d566bdc",
   "outputs": [],
   "execution_count": null
  },
  {
   "metadata": {
    "ExecuteTime": {
     "end_time": "2025-07-28T12:26:49.767104Z",
     "start_time": "2025-07-28T09:36:23.595339Z"
    }
   },
   "cell_type": "code",
   "source": [
    "for epoch in range(NUM_EPOCHS):\n",
    "    start_epoch = time.time()\n",
    "    print(f'Starting epoch {epoch + 1}/{NUM_EPOCHS}')\n",
    "    avg_loss  = train_step_token_classification(\n",
    "            model=model,\n",
    "            train_dataloader=train_dataloader,\n",
    "            idx2label=train_dataset.idx2label,\n",
    "            optimizer=optimizer,\n",
    "            )\n",
    "    # ---------------------------------------- Validation ---------------------------------------- #\n",
    "    model.eval()\n",
    "    with torch.no_grad():\n",
    "        avg_eval_loss, precision, recall, f1 = eval_token_classification(\n",
    "            model=model,\n",
    "            eval_dataloader=val_dataloader,\n",
    "            idx2label=val_dataset.idx2label,\n",
    "            print_results=True)\n",
    "        print(f\"Epoch [{epoch + 1}/{NUM_EPOCHS}], Average training loss: {avg_loss:.4f}, Average validation loss: {avg_eval_loss:.4f}, Precision: {precision:.4f}, Recall: {recall:.4f}, F1: {f1:.4f}.\")\n",
    "        print(f\"Time taken for epoch {epoch + 1}: {datetime.timedelta(seconds=int(time.time() - start_epoch))}\")\n",
    "    model.train()"
   ],
   "id": "a9248466235605f1",
   "outputs": [
    {
     "name": "stdout",
     "output_type": "stream",
     "text": [
      "Starting epoch 1/30\n",
      "Epoch [1/30], Average training loss: 1.4694, Average validation loss: 0.9239, Precision: 0.4983, Recall: 0.5302, F1: 0.5138.\n",
      "Time taken for epoch 1: 0:06:01\n",
      "Starting epoch 2/30\n",
      "Epoch [2/30], Average training loss: 0.8953, Average validation loss: 0.8240, Precision: 0.5630, Recall: 0.7191, F1: 0.6316.\n",
      "Time taken for epoch 2: 0:05:59\n",
      "Starting epoch 3/30\n",
      "Epoch [3/30], Average training loss: 0.7078, Average validation loss: 0.7931, Precision: 0.6251, Recall: 0.7628, F1: 0.6871.\n",
      "Time taken for epoch 3: 0:06:02\n",
      "Starting epoch 4/30\n",
      "Epoch [4/30], Average training loss: 0.5676, Average validation loss: 0.7118, Precision: 0.6738, Recall: 0.7395, F1: 0.7051.\n",
      "Time taken for epoch 4: 0:05:37\n",
      "Starting epoch 5/30\n",
      "Epoch [5/30], Average training loss: 0.4875, Average validation loss: 0.7030, Precision: 0.7058, Recall: 0.7847, F1: 0.7431.\n",
      "Time taken for epoch 5: 0:05:34\n",
      "Starting epoch 6/30\n",
      "Epoch [6/30], Average training loss: 0.3804, Average validation loss: 0.7678, Precision: 0.7339, Recall: 0.7776, F1: 0.7551.\n",
      "Time taken for epoch 6: 0:05:36\n",
      "Starting epoch 7/30\n",
      "Epoch [7/30], Average training loss: 0.3313, Average validation loss: 0.9515, Precision: 0.6884, Recall: 0.7552, F1: 0.7203.\n",
      "Time taken for epoch 7: 0:05:35\n",
      "Starting epoch 8/30\n",
      "Epoch [8/30], Average training loss: 0.3276, Average validation loss: 0.9560, Precision: 0.7128, Recall: 0.7816, F1: 0.7456.\n",
      "Time taken for epoch 8: 0:05:36\n",
      "Starting epoch 9/30\n",
      "Epoch [9/30], Average training loss: 0.2596, Average validation loss: 0.7750, Precision: 0.7127, Recall: 0.8040, F1: 0.7556.\n",
      "Time taken for epoch 9: 0:05:35\n",
      "Starting epoch 10/30\n",
      "Epoch [10/30], Average training loss: 0.1964, Average validation loss: 1.0376, Precision: 0.7302, Recall: 0.7974, F1: 0.7623.\n",
      "Time taken for epoch 10: 0:05:37\n",
      "Starting epoch 11/30\n",
      "Epoch [11/30], Average training loss: 0.1534, Average validation loss: 0.9862, Precision: 0.7446, Recall: 0.7776, F1: 0.7607.\n",
      "Time taken for epoch 11: 0:05:39\n",
      "Starting epoch 12/30\n",
      "Epoch [12/30], Average training loss: 0.1432, Average validation loss: 1.1557, Precision: 0.7227, Recall: 0.7745, F1: 0.7477.\n",
      "Time taken for epoch 12: 0:05:38\n",
      "Starting epoch 13/30\n",
      "Epoch [13/30], Average training loss: 0.1357, Average validation loss: 1.5138, Precision: 0.7379, Recall: 0.7664, F1: 0.7519.\n",
      "Time taken for epoch 13: 0:05:36\n",
      "Starting epoch 14/30\n",
      "Epoch [14/30], Average training loss: 0.1177, Average validation loss: 1.0873, Precision: 0.7639, Recall: 0.7969, F1: 0.7800.\n",
      "Time taken for epoch 14: 0:05:37\n",
      "Starting epoch 15/30\n",
      "Epoch [15/30], Average training loss: 0.1135, Average validation loss: 1.2228, Precision: 0.7437, Recall: 0.7974, F1: 0.7696.\n",
      "Time taken for epoch 15: 0:05:35\n",
      "Starting epoch 16/30\n",
      "Epoch [16/30], Average training loss: 0.1050, Average validation loss: 1.5513, Precision: 0.7504, Recall: 0.8121, F1: 0.7800.\n",
      "Time taken for epoch 16: 0:05:37\n",
      "Starting epoch 17/30\n",
      "Epoch [17/30], Average training loss: 0.0786, Average validation loss: 1.1004, Precision: 0.7372, Recall: 0.8090, F1: 0.7714.\n",
      "Time taken for epoch 17: 0:05:36\n",
      "Starting epoch 18/30\n",
      "Epoch [18/30], Average training loss: 0.0753, Average validation loss: 1.0899, Precision: 0.7419, Recall: 0.7897, F1: 0.7651.\n",
      "Time taken for epoch 18: 0:05:35\n",
      "Starting epoch 19/30\n",
      "Epoch [19/30], Average training loss: 0.0767, Average validation loss: 1.2150, Precision: 0.7637, Recall: 0.8060, F1: 0.7843.\n",
      "Time taken for epoch 19: 0:05:36\n",
      "Starting epoch 20/30\n",
      "Epoch [20/30], Average training loss: 0.0665, Average validation loss: 1.2126, Precision: 0.7392, Recall: 0.8207, F1: 0.7779.\n",
      "Time taken for epoch 20: 0:05:37\n",
      "Starting epoch 21/30\n",
      "Epoch [21/30], Average training loss: 0.0513, Average validation loss: 1.0963, Precision: 0.7311, Recall: 0.8121, F1: 0.7695.\n",
      "Time taken for epoch 21: 0:05:36\n",
      "Starting epoch 22/30\n",
      "Epoch [22/30], Average training loss: 0.0437, Average validation loss: 1.5033, Precision: 0.7629, Recall: 0.8106, F1: 0.7860.\n",
      "Time taken for epoch 22: 0:05:34\n",
      "Starting epoch 23/30\n",
      "Epoch [23/30], Average training loss: 0.0522, Average validation loss: 1.1739, Precision: 0.7622, Recall: 0.7913, F1: 0.7765.\n",
      "Time taken for epoch 23: 0:05:35\n",
      "Starting epoch 24/30\n",
      "Epoch [24/30], Average training loss: 0.0551, Average validation loss: 1.1656, Precision: 0.7607, Recall: 0.8040, F1: 0.7817.\n",
      "Time taken for epoch 24: 0:05:35\n",
      "Starting epoch 25/30\n",
      "Epoch [25/30], Average training loss: 0.0377, Average validation loss: 1.4262, Precision: 0.7469, Recall: 0.7897, F1: 0.7677.\n",
      "Time taken for epoch 25: 0:05:38\n",
      "Starting epoch 26/30\n",
      "Epoch [26/30], Average training loss: 0.0366, Average validation loss: 1.0731, Precision: 0.7580, Recall: 0.8035, F1: 0.7801.\n",
      "Time taken for epoch 26: 0:05:36\n",
      "Starting epoch 27/30\n",
      "Epoch [27/30], Average training loss: 0.0289, Average validation loss: 1.2710, Precision: 0.7550, Recall: 0.8060, F1: 0.7797.\n",
      "Time taken for epoch 27: 0:05:57\n",
      "Starting epoch 28/30\n",
      "Epoch [28/30], Average training loss: 0.0250, Average validation loss: 1.2494, Precision: 0.7434, Recall: 0.8136, F1: 0.7769.\n",
      "Time taken for epoch 28: 0:05:44\n",
      "Starting epoch 29/30\n",
      "Epoch [29/30], Average training loss: 0.0218, Average validation loss: 1.3464, Precision: 0.7566, Recall: 0.8192, F1: 0.7866.\n",
      "Time taken for epoch 29: 0:05:48\n",
      "Starting epoch 30/30\n",
      "Epoch [30/30], Average training loss: 0.0202, Average validation loss: 1.3974, Precision: 0.7723, Recall: 0.7908, F1: 0.7814.\n",
      "Time taken for epoch 30: 0:05:48\n"
     ]
    }
   ],
   "execution_count": 19
  },
  {
   "metadata": {
    "ExecuteTime": {
     "end_time": "2025-07-28T12:28:05.676016Z",
     "start_time": "2025-07-28T12:27:37.383968Z"
    }
   },
   "cell_type": "code",
   "source": [
    "# Run evaluation on the validation set\n",
    "model.eval()\n",
    "with torch.no_grad():\n",
    "    avg_eval_loss, precision, recall, f1 = eval_token_classification(\n",
    "        model=model,\n",
    "        eval_dataloader=val_dataloader,\n",
    "        idx2label=val_dataset.idx2label,\n",
    "        print_results=True)\n",
    "print(f\"Precision: {precision:.4f}, Recall: {recall:.4f}, F1: {f1:.4f}.\")"
   ],
   "id": "1018875732849aff",
   "outputs": [
    {
     "name": "stdout",
     "output_type": "stream",
     "text": [
      "Precision: 0.7757, Recall: 0.7902, F1: 0.7829.\n"
     ]
    }
   ],
   "execution_count": 20
  },
  {
   "metadata": {
    "ExecuteTime": {
     "end_time": "2025-07-28T12:52:06.178023Z",
     "start_time": "2025-07-28T12:52:05.751326Z"
    }
   },
   "cell_type": "code",
   "source": [
    "model.config.id2label = val_dataset.idx2label\n",
    "model.config.label2id = val_dataset.label2idx\n",
    "# Save fine-tuned model\n",
    "model.save_pretrained('models/docpolarbert-funsd')"
   ],
   "id": "a54fd0d9a910ec74",
   "outputs": [],
   "execution_count": 27
  }
 ],
 "metadata": {
  "kernelspec": {
   "display_name": "Python 3",
   "language": "python",
   "name": "python3"
  },
  "language_info": {
   "codemirror_mode": {
    "name": "ipython",
    "version": 2
   },
   "file_extension": ".py",
   "mimetype": "text/x-python",
   "name": "python",
   "nbconvert_exporter": "python",
   "pygments_lexer": "ipython2",
   "version": "2.7.6"
  }
 },
 "nbformat": 4,
 "nbformat_minor": 5
}
