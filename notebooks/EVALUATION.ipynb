{
 "cells": [
  {
   "cell_type": "code",
   "id": "initial_id",
   "metadata": {
    "collapsed": true,
    "ExecuteTime": {
     "end_time": "2025-07-30T13:55:35.534027Z",
     "start_time": "2025-07-30T13:55:35.497271Z"
    }
   },
   "source": [
    "%load_ext autoreload\n",
    "%autoreload 2\n",
    "import torch\n",
    "import random\n",
    "import numpy as np\n",
    "import os\n",
    "\n",
    "from torch.nn import CrossEntropyLoss\n",
    "from torch.utils.data import DataLoader\n",
    "from transformers import LayoutLMv3Tokenizer\n",
    "\n",
    "from data.token_classification import TokenClassificationDataset\n",
    "from src.modeling.docpolarbert.modeling_docpolarbert import DocPolarBERTForTokenClassification\n",
    "from src.modeling.docpolarbert.train_utils import eval_token_classification"
   ],
   "outputs": [
    {
     "name": "stdout",
     "output_type": "stream",
     "text": [
      "The autoreload extension is already loaded. To reload it, use:\n",
      "  %reload_ext autoreload\n"
     ]
    }
   ],
   "execution_count": 131
  },
  {
   "metadata": {
    "ExecuteTime": {
     "end_time": "2025-07-30T13:55:39.423571Z",
     "start_time": "2025-07-30T13:55:39.390753Z"
    }
   },
   "cell_type": "code",
   "source": [
    "DATA_DIRS = {\n",
    "    'funsd': '../data/funsd',\n",
    "    'sroie': '../data/sroie',\n",
    "    'cord': '../data/cord',\n",
    "     'payslips': '../data/payslips',\n",
    "     'docile':  '../data/docile',\n",
    "}\n",
    "\n",
    "MODEL_DIRS = '../models/'"
   ],
   "id": "43e8202e651255cc",
   "outputs": [],
   "execution_count": 132
  },
  {
   "metadata": {
    "ExecuteTime": {
     "end_time": "2025-07-30T13:58:58.686900Z",
     "start_time": "2025-07-30T13:55:44.261861Z"
    }
   },
   "cell_type": "code",
   "source": [
    "for DATASET, DATA_DIR in DATA_DIRS.items():\n",
    "    pad_token_label_id = CrossEntropyLoss().ignore_index\n",
    "    SEED = 1\n",
    "    BATCH_SIZE = 1\n",
    "    print(f\"Evaluating {DATASET}\")\n",
    "    # Set all seeds\n",
    "    random.seed(SEED)\n",
    "    np.random.seed(SEED)\n",
    "    torch.manual_seed(SEED)\n",
    "\n",
    "    tokenizer = LayoutLMv3Tokenizer.from_pretrained('microsoft/layoutlmv3-base')\n",
    "\n",
    "    test_dataset = TokenClassificationDataset(\n",
    "        data_dir=DATA_DIR,\n",
    "        tokenizer=tokenizer,\n",
    "        pad_token_label_id=pad_token_label_id,\n",
    "        mode='test')\n",
    "\n",
    "    test_sampler = torch.utils.data.SequentialSampler(test_dataset)\n",
    "\n",
    "    test_dataloader = DataLoader(dataset=test_dataset,\n",
    "                                batch_size=BATCH_SIZE,\n",
    "                                sampler=test_sampler,\n",
    "                                num_workers=0,\n",
    "                                pin_memory=True\n",
    "                                 )\n",
    "\n",
    "\n",
    "    model = DocPolarBERTForTokenClassification.from_pretrained(os.path.join(MODEL_DIRS, f\"docpolarbert-{DATASET}\"), num_labels=len(test_dataset.idx2label))\n",
    "\n",
    "    model.to(\"mps\" if torch.backends.mps.is_available() else \"cuda\" if torch.cuda.is_available() else \"cpu\")\n",
    "\n",
    "    model.eval()\n",
    "    with torch.no_grad():\n",
    "        avg_eval_loss, precision, recall, f1 = eval_token_classification(\n",
    "        model=model,\n",
    "        eval_dataloader=test_dataloader,\n",
    "        idx2label=test_dataset.idx2label,\n",
    "        print_results=True)\n",
    "    print(f\"{DATASET} - Precision: {precision:.4f}, Recall: {recall:.4f}, F1: {f1:.4f}.\")\n",
    "\n"
   ],
   "id": "c5baa35f11542d11",
   "outputs": [
    {
     "name": "stdout",
     "output_type": "stream",
     "text": [
      "Evaluating funsd\n",
      "funsd - Precision: 0.7735, Recall: 0.7892, F1: 0.7813.\n",
      "Evaluating sroie\n",
      "sroie - Precision: 0.9641, Recall: 0.9727, F1: 0.9684.\n",
      "Evaluating cord\n",
      "cord - Precision: 0.9533, Recall: 0.9621, F1: 0.9577.\n",
      "Evaluating payslips\n",
      "payslips - Precision: 0.7675, Recall: 0.8146, F1: 0.7904.\n",
      "Evaluating docile\n",
      "docile - Precision: 0.6072, Recall: 0.6255, F1: 0.6162.\n"
     ]
    }
   ],
   "execution_count": 133
  }
 ],
 "metadata": {
  "kernelspec": {
   "display_name": "Python 3",
   "language": "python",
   "name": "python3"
  },
  "language_info": {
   "codemirror_mode": {
    "name": "ipython",
    "version": 2
   },
   "file_extension": ".py",
   "mimetype": "text/x-python",
   "name": "python",
   "nbconvert_exporter": "python",
   "pygments_lexer": "ipython2",
   "version": "2.7.6"
  }
 },
 "nbformat": 4,
 "nbformat_minor": 5
}
